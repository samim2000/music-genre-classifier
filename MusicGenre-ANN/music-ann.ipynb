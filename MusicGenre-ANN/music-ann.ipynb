{
 "cells": [
  {
   "cell_type": "code",
   "execution_count": 1,
   "id": "5880340e",
   "metadata": {},
   "outputs": [],
   "source": [
    "import json\n",
    "import numpy as np\n",
    "from sklearn.model_selection import train_test_split\n",
    "import tensorflow.keras as keras\n",
    "\n",
    "import matplotlib.pyplot as plt\n",
    "import random\n",
    "\n",
    "import librosa\n",
    "import math"
   ]
  },
  {
   "cell_type": "code",
   "execution_count": 2,
   "id": "97e8ad46",
   "metadata": {},
   "outputs": [],
   "source": [
    "# path to json\n",
    "DATA_PATH = \"data_10.json\""
   ]
  },
  {
   "cell_type": "code",
   "execution_count": 3,
   "id": "de810a38",
   "metadata": {},
   "outputs": [],
   "source": [
    "def load_data(data_path):\n",
    "\n",
    "    with open(data_path, \"r\") as f:\n",
    "        data = json.load(f)\n",
    "\n",
    "    # convert lists to numpy arrays\n",
    "    X = np.array(data[\"mfcc\"])\n",
    "    y = np.array(data[\"labels\"])\n",
    "\n",
    "    print(\"Data succesfully loaded!\")\n",
    "\n",
    "    return  X, y"
   ]
  },
  {
   "cell_type": "code",
   "execution_count": 4,
   "id": "0bbf2ba5",
   "metadata": {},
   "outputs": [
    {
     "name": "stdout",
     "output_type": "stream",
     "text": [
      "Data succesfully loaded!\n"
     ]
    }
   ],
   "source": [
    "X, y = load_data(DATA_PATH)"
   ]
  },
  {
   "cell_type": "code",
   "execution_count": 5,
   "id": "058c6b4a",
   "metadata": {},
   "outputs": [
    {
     "data": {
      "text/plain": [
       "(9996, 130, 13)"
      ]
     },
     "execution_count": 5,
     "metadata": {},
     "output_type": "execute_result"
    }
   ],
   "source": [
    "X.shape"
   ]
  },
  {
   "cell_type": "code",
   "execution_count": 9,
   "id": "72a4aa5b",
   "metadata": {},
   "outputs": [],
   "source": [
    "X_train, X_test, y_train, y_test = train_test_split(X, y, test_size=0.3)"
   ]
  },
  {
   "cell_type": "code",
   "execution_count": 10,
   "id": "b46229ae",
   "metadata": {},
   "outputs": [],
   "source": [
    "# build network topology\n",
    "#ann \n",
    "model = keras.Sequential([\n",
    "\n",
    "    # input layer\n",
    "    keras.layers.Flatten(input_shape=(X.shape[1], X.shape[2])),\n",
    "\n",
    "    # 1st dense layer\n",
    "    keras.layers.Dense(512, activation='relu'),\n",
    "\n",
    "    # 2nd dense layer\n",
    "    keras.layers.Dense(256, activation='relu'),\n",
    "\n",
    "    # 3rd dense layer\n",
    "    keras.layers.Dense(64, activation='relu'),\n",
    "\n",
    "    # output layer\n",
    "    keras.layers.Dense(10, activation='softmax')\n",
    "])"
   ]
  },
  {
   "cell_type": "code",
   "execution_count": 11,
   "id": "e15d5db4",
   "metadata": {},
   "outputs": [],
   "source": [
    "# compile model\n",
    "optimiser = keras.optimizers.Adam(learning_rate=0.0001)\n",
    "model.compile(optimizer=optimiser,\n",
    "              loss='sparse_categorical_crossentropy',\n",
    "              metrics=['accuracy'])"
   ]
  },
  {
   "cell_type": "code",
   "execution_count": 12,
   "id": "1d099aba",
   "metadata": {},
   "outputs": [
    {
     "name": "stdout",
     "output_type": "stream",
     "text": [
      "Model: \"sequential\"\n",
      "_________________________________________________________________\n",
      "Layer (type)                 Output Shape              Param #   \n",
      "=================================================================\n",
      "flatten (Flatten)            (None, 1690)              0         \n",
      "_________________________________________________________________\n",
      "dense (Dense)                (None, 512)               865792    \n",
      "_________________________________________________________________\n",
      "dense_1 (Dense)              (None, 256)               131328    \n",
      "_________________________________________________________________\n",
      "dense_2 (Dense)              (None, 64)                16448     \n",
      "_________________________________________________________________\n",
      "dense_3 (Dense)              (None, 10)                650       \n",
      "=================================================================\n",
      "Total params: 1,014,218\n",
      "Trainable params: 1,014,218\n",
      "Non-trainable params: 0\n",
      "_________________________________________________________________\n"
     ]
    }
   ],
   "source": [
    "model.summary()"
   ]
  },
  {
   "cell_type": "code",
   "execution_count": 13,
   "id": "6797c038",
   "metadata": {},
   "outputs": [
    {
     "name": "stdout",
     "output_type": "stream",
     "text": [
      "Epoch 1/50\n",
      "219/219 [==============================] - 1s 6ms/step - loss: 10.3345 - accuracy: 0.3277 - val_loss: 5.7379 - val_accuracy: 0.3701\n",
      "Epoch 2/50\n",
      "219/219 [==============================] - 1s 5ms/step - loss: 4.3105 - accuracy: 0.4425 - val_loss: 4.3265 - val_accuracy: 0.4278\n",
      "Epoch 3/50\n",
      "219/219 [==============================] - 1s 5ms/step - loss: 2.8897 - accuracy: 0.4941 - val_loss: 3.6735 - val_accuracy: 0.4248\n",
      "Epoch 4/50\n",
      "219/219 [==============================] - 1s 6ms/step - loss: 2.1623 - accuracy: 0.5498 - val_loss: 3.2588 - val_accuracy: 0.4532\n",
      "Epoch 5/50\n",
      "219/219 [==============================] - 1s 5ms/step - loss: 1.6982 - accuracy: 0.6053 - val_loss: 3.1317 - val_accuracy: 0.4575\n",
      "Epoch 6/50\n",
      "219/219 [==============================] - 1s 5ms/step - loss: 1.3430 - accuracy: 0.6551 - val_loss: 2.9031 - val_accuracy: 0.4672\n",
      "Epoch 7/50\n",
      "219/219 [==============================] - 1s 5ms/step - loss: 1.1274 - accuracy: 0.6884 - val_loss: 2.8733 - val_accuracy: 0.4818\n",
      "Epoch 8/50\n",
      "219/219 [==============================] - 1s 5ms/step - loss: 0.9423 - accuracy: 0.7259 - val_loss: 2.8763 - val_accuracy: 0.4568\n",
      "Epoch 9/50\n",
      "219/219 [==============================] - 1s 5ms/step - loss: 0.8871 - accuracy: 0.7485 - val_loss: 2.8585 - val_accuracy: 0.4892\n",
      "Epoch 10/50\n",
      "219/219 [==============================] - 1s 6ms/step - loss: 0.7146 - accuracy: 0.7825 - val_loss: 2.6918 - val_accuracy: 0.5038\n",
      "Epoch 11/50\n",
      "219/219 [==============================] - 1s 5ms/step - loss: 0.6190 - accuracy: 0.8035 - val_loss: 2.7718 - val_accuracy: 0.4892\n",
      "Epoch 12/50\n",
      "219/219 [==============================] - 1s 5ms/step - loss: 0.5609 - accuracy: 0.8205 - val_loss: 2.7866 - val_accuracy: 0.4978\n",
      "Epoch 13/50\n",
      "219/219 [==============================] - 1s 7ms/step - loss: 0.5517 - accuracy: 0.8309 - val_loss: 2.7914 - val_accuracy: 0.5072\n",
      "Epoch 14/50\n",
      "219/219 [==============================] - 1s 6ms/step - loss: 0.4062 - accuracy: 0.8697 - val_loss: 2.8881 - val_accuracy: 0.5035\n",
      "Epoch 15/50\n",
      "219/219 [==============================] - 1s 6ms/step - loss: 0.3541 - accuracy: 0.8837 - val_loss: 2.7523 - val_accuracy: 0.5258\n",
      "Epoch 16/50\n",
      "219/219 [==============================] - 1s 6ms/step - loss: 0.3494 - accuracy: 0.8852 - val_loss: 2.7855 - val_accuracy: 0.5128\n",
      "Epoch 17/50\n",
      "219/219 [==============================] - 1s 6ms/step - loss: 0.3693 - accuracy: 0.8809 - val_loss: 2.7814 - val_accuracy: 0.5358\n",
      "Epoch 18/50\n",
      "219/219 [==============================] - 1s 6ms/step - loss: 0.3058 - accuracy: 0.9017 - val_loss: 2.7856 - val_accuracy: 0.5218\n",
      "Epoch 19/50\n",
      "219/219 [==============================] - 1s 6ms/step - loss: 0.2960 - accuracy: 0.9027 - val_loss: 2.8730 - val_accuracy: 0.5332\n",
      "Epoch 20/50\n",
      "219/219 [==============================] - 1s 6ms/step - loss: 0.3418 - accuracy: 0.8981 - val_loss: 2.8169 - val_accuracy: 0.5338\n",
      "Epoch 21/50\n",
      "219/219 [==============================] - 1s 6ms/step - loss: 0.3374 - accuracy: 0.8987 - val_loss: 2.6751 - val_accuracy: 0.5468\n",
      "Epoch 22/50\n",
      "219/219 [==============================] - 1s 6ms/step - loss: 0.2435 - accuracy: 0.9254 - val_loss: 2.8866 - val_accuracy: 0.5448\n",
      "Epoch 23/50\n",
      "219/219 [==============================] - 1s 6ms/step - loss: 0.1959 - accuracy: 0.9368 - val_loss: 2.8207 - val_accuracy: 0.5382\n",
      "Epoch 24/50\n",
      "219/219 [==============================] - 1s 6ms/step - loss: 0.1404 - accuracy: 0.9536 - val_loss: 2.9791 - val_accuracy: 0.5599\n",
      "Epoch 25/50\n",
      "219/219 [==============================] - 1s 6ms/step - loss: 0.1764 - accuracy: 0.9443 - val_loss: 3.0808 - val_accuracy: 0.5358\n",
      "Epoch 26/50\n",
      "219/219 [==============================] - 1s 6ms/step - loss: 0.3592 - accuracy: 0.8904 - val_loss: 3.3380 - val_accuracy: 0.5358\n",
      "Epoch 27/50\n",
      "219/219 [==============================] - 1s 6ms/step - loss: 0.2687 - accuracy: 0.9177 - val_loss: 2.8613 - val_accuracy: 0.5482\n",
      "Epoch 28/50\n",
      "219/219 [==============================] - 1s 6ms/step - loss: 0.2358 - accuracy: 0.9315 - val_loss: 2.8763 - val_accuracy: 0.5472\n",
      "Epoch 29/50\n",
      "219/219 [==============================] - 1s 6ms/step - loss: 0.1590 - accuracy: 0.9494 - val_loss: 2.7798 - val_accuracy: 0.5685\n",
      "Epoch 30/50\n",
      "219/219 [==============================] - 1s 6ms/step - loss: 0.1265 - accuracy: 0.9607 - val_loss: 2.7582 - val_accuracy: 0.5722\n",
      "Epoch 31/50\n",
      "219/219 [==============================] - 1s 6ms/step - loss: 0.0930 - accuracy: 0.9716 - val_loss: 2.8379 - val_accuracy: 0.5732\n",
      "Epoch 32/50\n",
      "219/219 [==============================] - 1s 6ms/step - loss: 0.1135 - accuracy: 0.9654 - val_loss: 2.9101 - val_accuracy: 0.5732\n",
      "Epoch 33/50\n",
      "219/219 [==============================] - 1s 6ms/step - loss: 0.1519 - accuracy: 0.9485 - val_loss: 2.9209 - val_accuracy: 0.5549\n",
      "Epoch 34/50\n",
      "219/219 [==============================] - 1s 6ms/step - loss: 0.2354 - accuracy: 0.9278 - val_loss: 3.0742 - val_accuracy: 0.5378\n",
      "Epoch 35/50\n",
      "219/219 [==============================] - 1s 6ms/step - loss: 0.2428 - accuracy: 0.9193 - val_loss: 2.9582 - val_accuracy: 0.5679\n",
      "Epoch 36/50\n",
      "219/219 [==============================] - 1s 6ms/step - loss: 0.1794 - accuracy: 0.9395 - val_loss: 3.1890 - val_accuracy: 0.5605\n",
      "Epoch 37/50\n",
      "219/219 [==============================] - 1s 6ms/step - loss: 0.1089 - accuracy: 0.9623 - val_loss: 2.8731 - val_accuracy: 0.5895\n",
      "Epoch 38/50\n",
      "219/219 [==============================] - 1s 6ms/step - loss: 0.1714 - accuracy: 0.9491 - val_loss: 3.0217 - val_accuracy: 0.5682\n",
      "Epoch 39/50\n",
      "219/219 [==============================] - 1s 6ms/step - loss: 0.1740 - accuracy: 0.9478 - val_loss: 3.1219 - val_accuracy: 0.5669\n",
      "Epoch 40/50\n",
      "219/219 [==============================] - 1s 6ms/step - loss: 0.1512 - accuracy: 0.9531 - val_loss: 3.2209 - val_accuracy: 0.5755\n",
      "Epoch 41/50\n",
      "219/219 [==============================] - 1s 6ms/step - loss: 0.1024 - accuracy: 0.9713 - val_loss: 2.9787 - val_accuracy: 0.5939\n",
      "Epoch 42/50\n",
      "219/219 [==============================] - 1s 6ms/step - loss: 0.1122 - accuracy: 0.9656 - val_loss: 3.0008 - val_accuracy: 0.5785\n",
      "Epoch 43/50\n",
      "219/219 [==============================] - 1s 6ms/step - loss: 0.1194 - accuracy: 0.9627 - val_loss: 3.2778 - val_accuracy: 0.5562\n",
      "Epoch 44/50\n",
      "219/219 [==============================] - 1s 6ms/step - loss: 0.0622 - accuracy: 0.9804 - val_loss: 3.0537 - val_accuracy: 0.5735\n",
      "Epoch 45/50\n",
      "219/219 [==============================] - 1s 6ms/step - loss: 0.0624 - accuracy: 0.9808 - val_loss: 3.0240 - val_accuracy: 0.5819\n",
      "Epoch 46/50\n",
      "219/219 [==============================] - 1s 6ms/step - loss: 0.2277 - accuracy: 0.9324 - val_loss: 3.2518 - val_accuracy: 0.5709\n",
      "Epoch 47/50\n",
      "219/219 [==============================] - 1s 6ms/step - loss: 0.1845 - accuracy: 0.9425 - val_loss: 3.1799 - val_accuracy: 0.5812\n",
      "Epoch 48/50\n",
      "219/219 [==============================] - 1s 6ms/step - loss: 0.1062 - accuracy: 0.9650 - val_loss: 3.3027 - val_accuracy: 0.5732\n",
      "Epoch 49/50\n",
      "219/219 [==============================] - 1s 6ms/step - loss: 0.1706 - accuracy: 0.9530 - val_loss: 3.2817 - val_accuracy: 0.5629\n",
      "Epoch 50/50\n",
      "219/219 [==============================] - 1s 6ms/step - loss: 0.1965 - accuracy: 0.9381 - val_loss: 3.1501 - val_accuracy: 0.5855\n"
     ]
    }
   ],
   "source": [
    "# train model\n",
    "history = model.fit(X_train, y_train, validation_data=(X_test, y_test), batch_size=32, epochs=50)"
   ]
  },
  {
   "cell_type": "code",
   "execution_count": 14,
   "id": "f111d0e2",
   "metadata": {},
   "outputs": [],
   "source": [
    "def plot_history(history):\n",
    "\n",
    "    fig, axs = plt.subplots(2)\n",
    "\n",
    "    # create accuracy sublpot\n",
    "    axs[0].plot(history.history[\"accuracy\"], label=\"train accuracy\")\n",
    "    axs[0].plot(history.history[\"val_accuracy\"], label=\"test accuracy\")\n",
    "    axs[0].set_ylabel(\"Accuracy\")\n",
    "    axs[0].legend(loc=\"lower right\")\n",
    "    axs[0].set_title(\"Accuracy eval\")\n",
    "\n",
    "    # create error sublpot\n",
    "    axs[1].plot(history.history[\"loss\"], label=\"train error\")\n",
    "    axs[1].plot(history.history[\"val_loss\"], label=\"test error\")\n",
    "    axs[1].set_ylabel(\"Error\")\n",
    "    axs[1].set_xlabel(\"Epoch\")\n",
    "    axs[1].legend(loc=\"upper right\")\n",
    "    axs[1].set_title(\"Error eval\")\n",
    "    \n",
    "    plt.show()"
   ]
  },
  {
   "cell_type": "code",
   "execution_count": 15,
   "id": "e0012c55",
   "metadata": {},
   "outputs": [
    {
     "data": {
      "image/png": "[encoded data removed]",
      "text/plain": [
       "<Figure size 432x288 with 2 Axes>"
      ]
     },
     "metadata": {
      "needs_background": "light"
     },
     "output_type": "display_data"
    }
   ],
   "source": [
    "# plot accuracy and error as a function of the epochs\n",
    "plot_history(history)"
   ]
  },
  {
   "cell_type": "code",
   "execution_count": 16,
   "id": "60ab29ea",
   "metadata": {},
   "outputs": [],
   "source": [
    "#ann model\n",
    "# build network topology\n",
    "model_regularized = keras.Sequential([\n",
    "\n",
    "    # input layer\n",
    "    keras.layers.Flatten(input_shape=(X.shape[1], X.shape[2])),\n",
    "\n",
    "    # 1st dense layer\n",
    "    keras.layers.Dense(512, activation='relu', kernel_regularizer=keras.regularizers.l2(0.001)),\n",
    "    keras.layers.Dropout(0.3),\n",
    "\n",
    "    # 2nd dense layer\n",
    "    keras.layers.Dense(256, activation='relu', kernel_regularizer=keras.regularizers.l2(0.001)),\n",
    "    keras.layers.Dropout(0.3),\n",
    "\n",
    "    # 3rd dense layer\n",
    "    keras.layers.Dense(64, activation='relu', kernel_regularizer=keras.regularizers.l2(0.001)),\n",
    "    keras.layers.Dropout(0.3),\n",
    "\n",
    "    # output layer\n",
    "    keras.layers.Dense(10, activation='softmax')\n",
    "])"
   ]
  },
  {
   "cell_type": "code",
   "execution_count": 17,
   "id": "5a4bddbe",
   "metadata": {},
   "outputs": [],
   "source": [
    "# compile model\n",
    "optimiser = keras.optimizers.Adam(learning_rate=0.0001)\n",
    "model_regularized.compile(optimizer=optimiser,\n",
    "              loss='sparse_categorical_crossentropy',\n",
    "              metrics=['accuracy'])"
   ]
  },
  {
   "cell_type": "code",
   "execution_count": 18,
   "id": "143e365d",
   "metadata": {},
   "outputs": [
    {
     "name": "stdout",
     "output_type": "stream",
     "text": [
      "Epoch 1/100\n",
      "219/219 [==============================] - 2s 9ms/step - loss: 24.0043 - accuracy: 0.1641 - val_loss: 3.4886 - val_accuracy: 0.2387\n",
      "Epoch 2/100\n",
      "219/219 [==============================] - 2s 8ms/step - loss: 6.9727 - accuracy: 0.1774 - val_loss: 3.3857 - val_accuracy: 0.1771\n",
      "Epoch 3/100\n",
      "219/219 [==============================] - 2s 8ms/step - loss: 4.6528 - accuracy: 0.1662 - val_loss: 3.4444 - val_accuracy: 0.1497\n",
      "Epoch 4/100\n",
      "219/219 [==============================] - 2s 8ms/step - loss: 4.0459 - accuracy: 0.1661 - val_loss: 3.4394 - val_accuracy: 0.1454\n",
      "Epoch 5/100\n",
      "219/219 [==============================] - 2s 8ms/step - loss: 3.7434 - accuracy: 0.1639 - val_loss: 3.4270 - val_accuracy: 0.1504\n",
      "Epoch 6/100\n",
      "219/219 [==============================] - 2s 8ms/step - loss: 3.6473 - accuracy: 0.1549 - val_loss: 3.3798 - val_accuracy: 0.1627\n",
      "Epoch 7/100\n",
      "219/219 [==============================] - 2s 8ms/step - loss: 3.5631 - accuracy: 0.1765 - val_loss: 3.3733 - val_accuracy: 0.1711\n",
      "Epoch 8/100\n",
      "219/219 [==============================] - 2s 8ms/step - loss: 3.4877 - accuracy: 0.2082 - val_loss: 3.3224 - val_accuracy: 0.2007\n",
      "Epoch 9/100\n",
      "219/219 [==============================] - 2s 8ms/step - loss: 3.4294 - accuracy: 0.2037 - val_loss: 3.3056 - val_accuracy: 0.1994\n",
      "Epoch 10/100\n",
      "219/219 [==============================] - 2s 9ms/step - loss: 3.3929 - accuracy: 0.2131 - val_loss: 3.2617 - val_accuracy: 0.2157\n",
      "Epoch 11/100\n",
      "219/219 [==============================] - 2s 10ms/step - loss: 3.3495 - accuracy: 0.2255 - val_loss: 3.2148 - val_accuracy: 0.2344\n",
      "Epoch 12/100\n",
      "219/219 [==============================] - 2s 9ms/step - loss: 3.3245 - accuracy: 0.2258 - val_loss: 3.2003 - val_accuracy: 0.2407\n",
      "Epoch 13/100\n",
      "219/219 [==============================] - 2s 9ms/step - loss: 3.2845 - accuracy: 0.2420 - val_loss: 3.1765 - val_accuracy: 0.2497\n",
      "Epoch 14/100\n",
      "219/219 [==============================] - 2s 10ms/step - loss: 3.2452 - accuracy: 0.2444 - val_loss: 3.1735 - val_accuracy: 0.2467\n",
      "Epoch 15/100\n",
      "219/219 [==============================] - 2s 11ms/step - loss: 3.2350 - accuracy: 0.2505 - val_loss: 3.1416 - val_accuracy: 0.2548\n",
      "Epoch 16/100\n",
      "219/219 [==============================] - 2s 10ms/step - loss: 3.1997 - accuracy: 0.2561 - val_loss: 3.1112 - val_accuracy: 0.2624\n",
      "Epoch 17/100\n",
      "219/219 [==============================] - 2s 10ms/step - loss: 3.1732 - accuracy: 0.2624 - val_loss: 3.1125 - val_accuracy: 0.2551\n",
      "Epoch 18/100\n",
      "219/219 [==============================] - 2s 9ms/step - loss: 3.1675 - accuracy: 0.2603 - val_loss: 3.0933 - val_accuracy: 0.2601\n",
      "Epoch 19/100\n",
      "219/219 [==============================] - 2s 9ms/step - loss: 3.1289 - accuracy: 0.2610 - val_loss: 3.0499 - val_accuracy: 0.2711\n",
      "Epoch 20/100\n",
      "219/219 [==============================] - 2s 9ms/step - loss: 3.1099 - accuracy: 0.2668 - val_loss: 3.0473 - val_accuracy: 0.2714\n",
      "Epoch 21/100\n",
      "219/219 [==============================] - 2s 9ms/step - loss: 3.0920 - accuracy: 0.2694 - val_loss: 3.0266 - val_accuracy: 0.2721\n",
      "Epoch 22/100\n",
      "219/219 [==============================] - 2s 9ms/step - loss: 3.0661 - accuracy: 0.2730 - val_loss: 3.0210 - val_accuracy: 0.2608\n",
      "Epoch 23/100\n",
      "219/219 [==============================] - 2s 9ms/step - loss: 3.0486 - accuracy: 0.2748 - val_loss: 2.9671 - val_accuracy: 0.2894\n",
      "Epoch 24/100\n",
      "219/219 [==============================] - 2s 9ms/step - loss: 3.0199 - accuracy: 0.2793 - val_loss: 2.9483 - val_accuracy: 0.2898\n",
      "Epoch 25/100\n",
      "219/219 [==============================] - 2s 9ms/step - loss: 2.9832 - accuracy: 0.2946 - val_loss: 2.9553 - val_accuracy: 0.2918\n",
      "Epoch 26/100\n",
      "219/219 [==============================] - 2s 9ms/step - loss: 2.9387 - accuracy: 0.3030 - val_loss: 2.8434 - val_accuracy: 0.3511\n",
      "Epoch 27/100\n",
      "219/219 [==============================] - 2s 9ms/step - loss: 2.9149 - accuracy: 0.3131 - val_loss: 2.8038 - val_accuracy: 0.3648\n",
      "Epoch 28/100\n",
      "219/219 [==============================] - 2s 9ms/step - loss: 2.8696 - accuracy: 0.3281 - val_loss: 2.7865 - val_accuracy: 0.3464\n",
      "Epoch 29/100\n",
      "219/219 [==============================] - 2s 9ms/step - loss: 2.8178 - accuracy: 0.3359 - val_loss: 2.8058 - val_accuracy: 0.3424\n",
      "Epoch 30/100\n",
      "219/219 [==============================] - 2s 9ms/step - loss: 2.7829 - accuracy: 0.3361 - val_loss: 2.7056 - val_accuracy: 0.3568\n",
      "Epoch 31/100\n",
      "219/219 [==============================] - 2s 9ms/step - loss: 2.7478 - accuracy: 0.3567 - val_loss: 2.6631 - val_accuracy: 0.3675\n",
      "Epoch 32/100\n",
      "219/219 [==============================] - 2s 9ms/step - loss: 2.6943 - accuracy: 0.3546 - val_loss: 2.6303 - val_accuracy: 0.3528\n",
      "Epoch 33/100\n",
      "219/219 [==============================] - 2s 9ms/step - loss: 2.6656 - accuracy: 0.3602 - val_loss: 2.6097 - val_accuracy: 0.3788\n",
      "Epoch 34/100\n",
      "219/219 [==============================] - 2s 9ms/step - loss: 2.6270 - accuracy: 0.3619 - val_loss: 2.5549 - val_accuracy: 0.3858\n",
      "Epoch 35/100\n",
      "219/219 [==============================] - 2s 9ms/step - loss: 2.5788 - accuracy: 0.3692 - val_loss: 2.5312 - val_accuracy: 0.3965\n",
      "Epoch 36/100\n",
      "219/219 [==============================] - 2s 10ms/step - loss: 2.5363 - accuracy: 0.3809 - val_loss: 2.5122 - val_accuracy: 0.3901\n",
      "Epoch 37/100\n",
      "219/219 [==============================] - 2s 9ms/step - loss: 2.5127 - accuracy: 0.3760 - val_loss: 2.5098 - val_accuracy: 0.4015\n",
      "Epoch 38/100\n",
      "219/219 [==============================] - 2s 9ms/step - loss: 2.4700 - accuracy: 0.3902 - val_loss: 2.4397 - val_accuracy: 0.4108\n",
      "Epoch 39/100\n",
      "219/219 [==============================] - 2s 9ms/step - loss: 2.4236 - accuracy: 0.4020 - val_loss: 2.4101 - val_accuracy: 0.4068\n",
      "Epoch 40/100\n",
      "219/219 [==============================] - 2s 9ms/step - loss: 2.4037 - accuracy: 0.4070 - val_loss: 2.3984 - val_accuracy: 0.4181\n",
      "Epoch 41/100\n",
      "219/219 [==============================] - 2s 9ms/step - loss: 2.3745 - accuracy: 0.4027 - val_loss: 2.3631 - val_accuracy: 0.4231\n",
      "Epoch 42/100\n",
      "219/219 [==============================] - 2s 9ms/step - loss: 2.3252 - accuracy: 0.4076 - val_loss: 2.3202 - val_accuracy: 0.4415\n",
      "Epoch 43/100\n",
      "219/219 [==============================] - 2s 10ms/step - loss: 2.3003 - accuracy: 0.4132 - val_loss: 2.3195 - val_accuracy: 0.4308\n",
      "Epoch 44/100\n",
      "219/219 [==============================] - 2s 9ms/step - loss: 2.2643 - accuracy: 0.4378 - val_loss: 2.2730 - val_accuracy: 0.4608\n",
      "Epoch 45/100\n",
      "219/219 [==============================] - 2s 9ms/step - loss: 2.2120 - accuracy: 0.4426 - val_loss: 2.2390 - val_accuracy: 0.4525\n",
      "Epoch 46/100\n",
      "219/219 [==============================] - 2s 9ms/step - loss: 2.1787 - accuracy: 0.4453 - val_loss: 2.2102 - val_accuracy: 0.4648\n",
      "Epoch 47/100\n",
      "219/219 [==============================] - 2s 9ms/step - loss: 2.1563 - accuracy: 0.4543 - val_loss: 2.2328 - val_accuracy: 0.4672\n",
      "Epoch 48/100\n",
      "219/219 [==============================] - 2s 9ms/step - loss: 2.1116 - accuracy: 0.4702 - val_loss: 2.1508 - val_accuracy: 0.4808\n",
      "Epoch 49/100\n",
      "219/219 [==============================] - 2s 9ms/step - loss: 2.0617 - accuracy: 0.4778 - val_loss: 2.2005 - val_accuracy: 0.4682\n",
      "Epoch 50/100\n",
      "219/219 [==============================] - 2s 9ms/step - loss: 2.0415 - accuracy: 0.4834 - val_loss: 2.1351 - val_accuracy: 0.4652\n",
      "Epoch 51/100\n",
      "219/219 [==============================] - 2s 9ms/step - loss: 2.0072 - accuracy: 0.4831 - val_loss: 2.0982 - val_accuracy: 0.4735\n",
      "Epoch 52/100\n",
      "219/219 [==============================] - 2s 9ms/step - loss: 1.9630 - accuracy: 0.4938 - val_loss: 2.0894 - val_accuracy: 0.4778\n",
      "Epoch 53/100\n",
      "219/219 [==============================] - 2s 9ms/step - loss: 1.9552 - accuracy: 0.4886 - val_loss: 2.0727 - val_accuracy: 0.4778\n",
      "Epoch 54/100\n",
      "219/219 [==============================] - 2s 9ms/step - loss: 1.9041 - accuracy: 0.5099 - val_loss: 2.0853 - val_accuracy: 0.4755\n",
      "Epoch 55/100\n",
      "219/219 [==============================] - 2s 9ms/step - loss: 1.8558 - accuracy: 0.5192 - val_loss: 2.0489 - val_accuracy: 0.4832\n",
      "Epoch 56/100\n",
      "219/219 [==============================] - 2s 10ms/step - loss: 1.8420 - accuracy: 0.5248 - val_loss: 2.0541 - val_accuracy: 0.4868\n",
      "Epoch 57/100\n",
      "219/219 [==============================] - 2s 9ms/step - loss: 1.8054 - accuracy: 0.5321 - val_loss: 1.9999 - val_accuracy: 0.5015\n"
     ]
    },
    {
     "name": "stdout",
     "output_type": "stream",
     "text": [
      "Epoch 58/100\n",
      "219/219 [==============================] - 2s 9ms/step - loss: 1.7878 - accuracy: 0.5255 - val_loss: 2.0095 - val_accuracy: 0.4832\n",
      "Epoch 59/100\n",
      "219/219 [==============================] - 2s 9ms/step - loss: 1.7631 - accuracy: 0.5305 - val_loss: 2.0136 - val_accuracy: 0.4912\n",
      "Epoch 60/100\n",
      "219/219 [==============================] - 2s 9ms/step - loss: 1.7450 - accuracy: 0.5445 - val_loss: 1.9689 - val_accuracy: 0.5012\n",
      "Epoch 61/100\n",
      "219/219 [==============================] - 2s 9ms/step - loss: 1.6980 - accuracy: 0.5489 - val_loss: 1.9731 - val_accuracy: 0.5102\n",
      "Epoch 62/100\n",
      "219/219 [==============================] - 2s 9ms/step - loss: 1.6906 - accuracy: 0.5534 - val_loss: 1.9887 - val_accuracy: 0.5022\n",
      "Epoch 63/100\n",
      "219/219 [==============================] - 2s 9ms/step - loss: 1.6524 - accuracy: 0.5631 - val_loss: 1.9157 - val_accuracy: 0.5118\n",
      "Epoch 64/100\n",
      "219/219 [==============================] - 2s 9ms/step - loss: 1.6403 - accuracy: 0.5680 - val_loss: 1.9170 - val_accuracy: 0.5182\n",
      "Epoch 65/100\n",
      "219/219 [==============================] - 2s 9ms/step - loss: 1.5916 - accuracy: 0.5751 - val_loss: 1.9570 - val_accuracy: 0.5148\n",
      "Epoch 66/100\n",
      "219/219 [==============================] - 2s 9ms/step - loss: 1.6001 - accuracy: 0.5741 - val_loss: 1.9115 - val_accuracy: 0.5215\n",
      "Epoch 67/100\n",
      "219/219 [==============================] - 2s 9ms/step - loss: 1.5862 - accuracy: 0.5791 - val_loss: 1.8697 - val_accuracy: 0.5152\n",
      "Epoch 68/100\n",
      "219/219 [==============================] - 2s 9ms/step - loss: 1.5304 - accuracy: 0.5893 - val_loss: 1.9230 - val_accuracy: 0.5142\n",
      "Epoch 69/100\n",
      "219/219 [==============================] - 2s 9ms/step - loss: 1.5172 - accuracy: 0.5990 - val_loss: 1.8667 - val_accuracy: 0.5255\n",
      "Epoch 70/100\n",
      "219/219 [==============================] - 2s 9ms/step - loss: 1.5024 - accuracy: 0.6033 - val_loss: 1.8988 - val_accuracy: 0.5162\n",
      "Epoch 71/100\n",
      "219/219 [==============================] - 2s 9ms/step - loss: 1.4926 - accuracy: 0.5947 - val_loss: 1.9202 - val_accuracy: 0.5182\n",
      "Epoch 72/100\n",
      "219/219 [==============================] - 2s 9ms/step - loss: 1.4437 - accuracy: 0.6094 - val_loss: 1.9014 - val_accuracy: 0.5222\n",
      "Epoch 73/100\n",
      "219/219 [==============================] - 2s 9ms/step - loss: 1.4421 - accuracy: 0.6203 - val_loss: 1.9067 - val_accuracy: 0.5255\n",
      "Epoch 74/100\n",
      "219/219 [==============================] - 2s 9ms/step - loss: 1.4277 - accuracy: 0.6124 - val_loss: 1.8861 - val_accuracy: 0.5365\n",
      "Epoch 75/100\n",
      "219/219 [==============================] - 2s 9ms/step - loss: 1.4329 - accuracy: 0.6271 - val_loss: 1.9123 - val_accuracy: 0.5298\n",
      "Epoch 76/100\n",
      "219/219 [==============================] - 2s 9ms/step - loss: 1.3756 - accuracy: 0.6330 - val_loss: 1.8629 - val_accuracy: 0.5332\n",
      "Epoch 77/100\n",
      "219/219 [==============================] - 2s 9ms/step - loss: 1.3582 - accuracy: 0.6346 - val_loss: 1.8767 - val_accuracy: 0.5385\n",
      "Epoch 78/100\n",
      "219/219 [==============================] - 2s 10ms/step - loss: 1.3369 - accuracy: 0.6430 - val_loss: 1.8635 - val_accuracy: 0.5502\n",
      "Epoch 79/100\n",
      "219/219 [==============================] - 2s 9ms/step - loss: 1.3260 - accuracy: 0.6487 - val_loss: 1.8491 - val_accuracy: 0.5402\n",
      "Epoch 80/100\n",
      "219/219 [==============================] - 2s 9ms/step - loss: 1.3566 - accuracy: 0.6420 - val_loss: 1.8854 - val_accuracy: 0.5442\n",
      "Epoch 81/100\n",
      "219/219 [==============================] - 2s 9ms/step - loss: 1.2973 - accuracy: 0.6553 - val_loss: 1.9022 - val_accuracy: 0.5402\n",
      "Epoch 82/100\n",
      "219/219 [==============================] - 2s 9ms/step - loss: 1.3233 - accuracy: 0.6493 - val_loss: 1.8488 - val_accuracy: 0.5475\n",
      "Epoch 83/100\n",
      "219/219 [==============================] - 2s 9ms/step - loss: 1.3012 - accuracy: 0.6554 - val_loss: 1.8696 - val_accuracy: 0.5502\n",
      "Epoch 84/100\n",
      "219/219 [==============================] - 2s 9ms/step - loss: 1.2661 - accuracy: 0.6624 - val_loss: 1.8664 - val_accuracy: 0.5525\n",
      "Epoch 85/100\n",
      "219/219 [==============================] - 2s 9ms/step - loss: 1.2687 - accuracy: 0.6626 - val_loss: 1.9044 - val_accuracy: 0.5448\n",
      "Epoch 86/100\n",
      "219/219 [==============================] - 2s 9ms/step - loss: 1.2527 - accuracy: 0.6654 - val_loss: 1.8624 - val_accuracy: 0.5565\n",
      "Epoch 87/100\n",
      "219/219 [==============================] - 2s 9ms/step - loss: 1.2331 - accuracy: 0.6744 - val_loss: 1.8476 - val_accuracy: 0.5488\n",
      "Epoch 88/100\n",
      "219/219 [==============================] - 2s 9ms/step - loss: 1.2406 - accuracy: 0.6721 - val_loss: 1.8845 - val_accuracy: 0.5465\n",
      "Epoch 89/100\n",
      "219/219 [==============================] - 2s 9ms/step - loss: 1.2142 - accuracy: 0.6753 - val_loss: 1.8473 - val_accuracy: 0.5502\n",
      "Epoch 90/100\n",
      "219/219 [==============================] - 2s 9ms/step - loss: 1.2121 - accuracy: 0.6827 - val_loss: 1.9321 - val_accuracy: 0.5398\n",
      "Epoch 91/100\n",
      "219/219 [==============================] - 2s 9ms/step - loss: 1.1866 - accuracy: 0.6856 - val_loss: 1.8419 - val_accuracy: 0.5569\n",
      "Epoch 92/100\n",
      "219/219 [==============================] - 2s 9ms/step - loss: 1.1745 - accuracy: 0.6864 - val_loss: 1.8816 - val_accuracy: 0.5515\n",
      "Epoch 93/100\n",
      "219/219 [==============================] - 2s 9ms/step - loss: 1.1417 - accuracy: 0.6964 - val_loss: 1.9523 - val_accuracy: 0.5535\n",
      "Epoch 94/100\n",
      "219/219 [==============================] - 2s 9ms/step - loss: 1.1895 - accuracy: 0.6873 - val_loss: 1.8492 - val_accuracy: 0.5525\n",
      "Epoch 95/100\n",
      "219/219 [==============================] - 2s 9ms/step - loss: 1.1664 - accuracy: 0.6957 - val_loss: 1.8241 - val_accuracy: 0.5572\n",
      "Epoch 96/100\n",
      "219/219 [==============================] - 2s 9ms/step - loss: 1.1257 - accuracy: 0.7074 - val_loss: 1.8053 - val_accuracy: 0.5655\n",
      "Epoch 97/100\n",
      "219/219 [==============================] - 2s 9ms/step - loss: 1.1270 - accuracy: 0.7026 - val_loss: 1.9101 - val_accuracy: 0.5592\n",
      "Epoch 98/100\n",
      "219/219 [==============================] - 2s 9ms/step - loss: 1.0872 - accuracy: 0.7179 - val_loss: 1.8733 - val_accuracy: 0.5682\n",
      "Epoch 99/100\n",
      "219/219 [==============================] - 2s 9ms/step - loss: 1.0879 - accuracy: 0.7157 - val_loss: 1.8134 - val_accuracy: 0.5595\n",
      "Epoch 100/100\n",
      "219/219 [==============================] - 2s 9ms/step - loss: 1.0665 - accuracy: 0.7187 - val_loss: 1.9316 - val_accuracy: 0.5629\n"
     ]
    }
   ],
   "source": [
    "# train model\n",
    "history = model_regularized.fit(X_train, y_train, validation_data=(X_test, y_test), batch_size=32, epochs=100)"
   ]
  },
  {
   "cell_type": "code",
   "execution_count": 19,
   "id": "4b2cd1bb",
   "metadata": {},
   "outputs": [
    {
     "data": {
      "image/png": "[encoded data removed]",
      "text/plain": [
       "<Figure size 432x288 with 2 Axes>"
      ]
     },
     "metadata": {
      "needs_background": "light"
     },
     "output_type": "display_data"
    }
   ],
   "source": [
    "plot_history(history)"
   ]
  },
  {
   "cell_type": "code",
   "execution_count": 20,
   "id": "02eada22",
   "metadata": {},
   "outputs": [
    {
     "name": "stdout",
     "output_type": "stream",
     "text": [
      "94/94 - 0s - loss: 1.9316 - accuracy: 0.5629\n",
      "\n",
      "Test accuracy: 0.5628542900085449\n"
     ]
    }
   ],
   "source": [
    "test_loss, test_acc = model_regularized.evaluate(X_test, y_test, verbose=2)\n",
    "print('\\nTest accuracy:', test_acc)"
   ]
  },
  {
   "cell_type": "code",
   "execution_count": 21,
   "id": "c8ab667f",
   "metadata": {},
   "outputs": [
    {
     "name": "stdout",
     "output_type": "stream",
     "text": [
      "WARNING:tensorflow:From C:\\Users\\KIIT\\anaconda3\\lib\\site-packages\\tensorflow\\python\\training\\tracking\\tracking.py:111: Model.state_updates (from tensorflow.python.keras.engine.training) is deprecated and will be removed in a future version.\n",
      "Instructions for updating:\n",
      "This property should not be used in TensorFlow 2.0, as updates are applied automatically.\n",
      "WARNING:tensorflow:From C:\\Users\\KIIT\\anaconda3\\lib\\site-packages\\tensorflow\\python\\training\\tracking\\tracking.py:111: Layer.updates (from tensorflow.python.keras.engine.base_layer) is deprecated and will be removed in a future version.\n",
      "Instructions for updating:\n",
      "This property should not be used in TensorFlow 2.0, as updates are applied automatically.\n",
      "INFO:tensorflow:Assets written to: Music_Genre_10_CNN\\assets\n"
     ]
    }
   ],
   "source": [
    "model_regularized.save(\"Music_Genre_10_CNN\")"
   ]
  },
  {
   "cell_type": "code",
   "execution_count": 22,
   "id": "64c74f5d",
   "metadata": {},
   "outputs": [],
   "source": [
    "model_regularized.save(\"Music_Genre_10_CNN.h5\")"
   ]
  },
  {
   "cell_type": "code",
   "execution_count": 23,
   "id": "95729619",
   "metadata": {},
   "outputs": [],
   "source": [
    "reconstructed_model = keras.models.load_model(\"Music_Genre_10_CNN.h5\")"
   ]
  },
  {
   "cell_type": "code",
   "execution_count": 24,
   "id": "017a197d",
   "metadata": {},
   "outputs": [],
   "source": [
    "X_to_predict = X_test[100]\n",
    "y_to_predict = y_test[100]"
   ]
  },
  {
   "cell_type": "code",
   "execution_count": 25,
   "id": "f185817a",
   "metadata": {},
   "outputs": [
    {
     "data": {
      "text/plain": [
       "(130, 13)"
      ]
     },
     "execution_count": 25,
     "metadata": {},
     "output_type": "execute_result"
    }
   ],
   "source": [
    "X_to_predict.shape"
   ]
  },
  {
   "cell_type": "code",
   "execution_count": 26,
   "id": "fd07dd84",
   "metadata": {},
   "outputs": [
    {
     "name": "stdout",
     "output_type": "stream",
     "text": [
      "Real Genre: 5\n"
     ]
    }
   ],
   "source": [
    "print(\"Real Genre:\", y_to_predict)"
   ]
  },
  {
   "cell_type": "code",
   "execution_count": 27,
   "id": "b08fe58e",
   "metadata": {},
   "outputs": [],
   "source": [
    "# add a dimension to input data for sample - model.predict() expects a 4d array in this case\n",
    "X_to_predict = X_to_predict[np.newaxis, ...]"
   ]
  },
  {
   "cell_type": "code",
   "execution_count": 28,
   "id": "c472626f",
   "metadata": {},
   "outputs": [
    {
     "data": {
      "text/plain": [
       "(1, 130, 13)"
      ]
     },
     "execution_count": 28,
     "metadata": {},
     "output_type": "execute_result"
    }
   ],
   "source": [
    "X_to_predict.shape"
   ]
  },
  {
   "cell_type": "code",
   "execution_count": 29,
   "id": "4c655806",
   "metadata": {},
   "outputs": [],
   "source": [
    "prediction = model_regularized.predict(X_to_predict)"
   ]
  },
  {
   "cell_type": "code",
   "execution_count": 30,
   "id": "18034fc1",
   "metadata": {},
   "outputs": [
    {
     "name": "stdout",
     "output_type": "stream",
     "text": [
      "Predicted Genre: 5\n"
     ]
    }
   ],
   "source": [
    "predicted_index = np.argmax(prediction, axis=1)\n",
    "\n",
    "print(\"Predicted Genre:\", int(predicted_index))"
   ]
  },
  {
   "cell_type": "code",
   "execution_count": 31,
   "id": "04767367",
   "metadata": {},
   "outputs": [
    {
     "name": "stdout",
     "output_type": "stream",
     "text": [
      "Real Genre: 7\n",
      "Predicted Genre: 9\n"
     ]
    }
   ],
   "source": [
    "X_to_predict = X_test[50]\n",
    "y_to_predict = y_test[50]\n",
    "\n",
    "print(\"Real Genre:\", y_to_predict)\n",
    "\n",
    "X_to_predict = X_to_predict[np.newaxis, ...]\n",
    "\n",
    "prediction = model_regularized.predict(X_to_predict)\n",
    "\n",
    "# get index with max value\n",
    "predicted_index = np.argmax(prediction, axis=1)\n",
    "\n",
    "print(\"Predicted Genre:\", int(predicted_index))"
   ]
  },
  {
   "cell_type": "code",
   "execution_count": 32,
   "id": "9398156b",
   "metadata": {},
   "outputs": [
    {
     "data": {
      "text/plain": [
       "2999"
      ]
     },
     "execution_count": 32,
     "metadata": {},
     "output_type": "execute_result"
    }
   ],
   "source": [
    "len(X_test)"
   ]
  },
  {
   "cell_type": "code",
   "execution_count": 33,
   "id": "cbad0a55",
   "metadata": {},
   "outputs": [
    {
     "name": "stdout",
     "output_type": "stream",
     "text": [
      "\n",
      "Real Genre: 1\n",
      "Predicted Genre: 1\n",
      "\n",
      "Real Genre: 7\n",
      "Predicted Genre: 7\n",
      "\n",
      "Real Genre: 0\n",
      "Predicted Genre: 9\n",
      "\n",
      "Real Genre: 0\n",
      "Predicted Genre: 9\n",
      "\n",
      "Real Genre: 6\n",
      "Predicted Genre: 6\n",
      "\n",
      "Real Genre: 4\n",
      "Predicted Genre: 8\n",
      "\n",
      "Real Genre: 6\n",
      "Predicted Genre: 3\n",
      "\n",
      "Real Genre: 5\n",
      "Predicted Genre: 1\n",
      "\n",
      "Real Genre: 0\n",
      "Predicted Genre: 5\n",
      "\n",
      "Real Genre: 8\n",
      "Predicted Genre: 8\n"
     ]
    }
   ],
   "source": [
    "for n in range(10):\n",
    "\n",
    "  i = random.randint(0,len(X_test))\n",
    "  # pick a sample to predict from the test set\n",
    "  X_to_predict = X_test[i]\n",
    "  y_to_predict = y_test[i]\n",
    "\n",
    "  print(\"\\nReal Genre:\", y_to_predict)\n",
    "\n",
    "  X_to_predict = X_to_predict[np.newaxis, ...]\n",
    "\n",
    "  prediction = model_regularized.predict(X_to_predict)\n",
    "\n",
    "  # get index with max value\n",
    "  predicted_index = np.argmax(prediction, axis=1)\n",
    "\n",
    "  print(\"Predicted Genre:\", int(predicted_index))"
   ]
  },
  {
   "cell_type": "code",
   "execution_count": 34,
   "id": "6504b01c",
   "metadata": {},
   "outputs": [],
   "source": [
    "def process_input(audio_file, track_duration):\n",
    "\n",
    "  SAMPLE_RATE = 22050\n",
    "  NUM_MFCC = 13\n",
    "  N_FTT=2048\n",
    "  HOP_LENGTH=512\n",
    "  TRACK_DURATION = track_duration # measured in seconds\n",
    "  SAMPLES_PER_TRACK = SAMPLE_RATE * TRACK_DURATION\n",
    "  NUM_SEGMENTS = 10\n",
    "\n",
    "  samples_per_segment = int(SAMPLES_PER_TRACK / NUM_SEGMENTS)\n",
    "  num_mfcc_vectors_per_segment = math.ceil(samples_per_segment / HOP_LENGTH)\n",
    "\n",
    "  signal, sample_rate = librosa.load(audio_file, sr=SAMPLE_RATE)\n",
    "  \n",
    "  for d in range(10):\n",
    "\n",
    "    # calculate start and finish sample for current segment\n",
    "    start = samples_per_segment * d\n",
    "    finish = start + samples_per_segment\n",
    "\n",
    "    # extract mfcc\n",
    "    mfcc = librosa.feature.mfcc(signal[start:finish], sample_rate, n_mfcc=NUM_MFCC, n_fft=N_FTT, hop_length=HOP_LENGTH)\n",
    "    mfcc = mfcc.T\n",
    "\n",
    "    return mfcc\n"
   ]
  },
  {
   "cell_type": "code",
   "execution_count": 35,
   "id": "191db16c",
   "metadata": {},
   "outputs": [],
   "source": [
    "genre_dict = {0:\"hiphop\",1:\"country\",2:\"jazz\",3:\"classical\",4:\"metal\",5:\"pop\",6:\"rock\",7:\"blues\",8:\"reggae\",9:\"disco\"}"
   ]
  },
  {
   "cell_type": "code",
   "execution_count": 37,
   "id": "f55071a4",
   "metadata": {},
   "outputs": [],
   "source": [
    "new_input_mfcc = process_input(\"sample3.wav\", 30)"
   ]
  },
  {
   "cell_type": "code",
   "execution_count": 38,
   "id": "cdec5141",
   "metadata": {},
   "outputs": [
    {
     "data": {
      "text/plain": [
       "(1, 130, 13, 1)"
      ]
     },
     "execution_count": 38,
     "metadata": {},
     "output_type": "execute_result"
    }
   ],
   "source": [
    "X_to_predict = new_input_mfcc[np.newaxis, ..., np.newaxis]\n",
    "X_to_predict.shape"
   ]
  },
  {
   "cell_type": "code",
   "execution_count": 40,
   "id": "b0780ea2",
   "metadata": {},
   "outputs": [
    {
     "name": "stdout",
     "output_type": "stream",
     "text": [
      "Predicted Genre: classical\n"
     ]
    }
   ],
   "source": [
    "prediction = model_regularized.predict(X_to_predict)\n",
    "predicted_index = np.argmax(prediction, axis=1)\n",
    "\n",
    "print(\"Predicted Genre:\", genre_dict[int(predicted_index)])"
   ]
  },
  {
   "cell_type": "code",
   "execution_count": 41,
   "id": "9333d8ec",
   "metadata": {},
   "outputs": [],
   "source": [
    "new_input_mfcc = process_input(\"hiphopdiff.mp3\", 30)"
   ]
  },
  {
   "cell_type": "code",
   "execution_count": 42,
   "id": "02c1ea51",
   "metadata": {},
   "outputs": [
    {
     "data": {
      "text/plain": [
       "(1, 130, 13, 1)"
      ]
     },
     "execution_count": 42,
     "metadata": {},
     "output_type": "execute_result"
    }
   ],
   "source": [
    "X_to_predict = new_input_mfcc[np.newaxis, ..., np.newaxis]\n",
    "X_to_predict.shape"
   ]
  },
  {
   "cell_type": "code",
   "execution_count": 43,
   "id": "8e4a41a8",
   "metadata": {},
   "outputs": [
    {
     "name": "stdout",
     "output_type": "stream",
     "text": [
      "Predicted Genre: country\n"
     ]
    }
   ],
   "source": [
    "prediction = model_regularized.predict(X_to_predict)\n",
    "predicted_index = np.argmax(prediction, axis=1)\n",
    "\n",
    "print(\"Predicted Genre:\", genre_dict[int(predicted_index)])"
   ]
  },
  {
   "cell_type": "code",
   "execution_count": 44,
   "id": "5cfd30f7",
   "metadata": {},
   "outputs": [
    {
     "name": "stderr",
     "output_type": "stream",
     "text": [
      "C:\\Users\\KIIT\\anaconda3\\lib\\site-packages\\librosa\\core\\audio.py:165: UserWarning: PySoundFile failed. Trying audioread instead.\n",
      "  warnings.warn(\"PySoundFile failed. Trying audioread instead.\")\n"
     ]
    }
   ],
   "source": [
    "new_input_mfcc = process_input(\"adam.mp3\", 30)"
   ]
  },
  {
   "cell_type": "code",
   "execution_count": 45,
   "id": "db829def",
   "metadata": {},
   "outputs": [
    {
     "data": {
      "text/plain": [
       "(1, 130, 13, 1)"
      ]
     },
     "execution_count": 45,
     "metadata": {},
     "output_type": "execute_result"
    }
   ],
   "source": [
    "X_to_predict = new_input_mfcc[np.newaxis, ..., np.newaxis]\n",
    "X_to_predict.shape"
   ]
  },
  {
   "cell_type": "code",
   "execution_count": 46,
   "id": "57e31f8e",
   "metadata": {},
   "outputs": [
    {
     "name": "stdout",
     "output_type": "stream",
     "text": [
      "Predicted Genre: country\n"
     ]
    }
   ],
   "source": [
    "prediction = model_regularized.predict(X_to_predict)\n",
    "predicted_index = np.argmax(prediction, axis=1)\n",
    "\n",
    "print(\"Predicted Genre:\", genre_dict[int(predicted_index)])"
   ]
  },
  {
   "cell_type": "code",
   "execution_count": null,
   "id": "112e34d9",
   "metadata": {},
   "outputs": [],
   "source": []
  }
 ],
 "metadata": {
  "kernelspec": {
   "display_name": "Python 3",
   "language": "python",
   "name": "python3"
  },
  "language_info": {
   "codemirror_mode": {
    "name": "ipython",
    "version": 3
   },
   "file_extension": ".py",
   "mimetype": "text/x-python",
   "name": "python",
   "nbconvert_exporter": "python",
   "pygments_lexer": "ipython3",
   "version": "3.8.8"
  }
 },
 "nbformat": 4,
 "nbformat_minor": 5
}
