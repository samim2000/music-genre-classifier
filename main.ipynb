{
 "cells": [
  {
   "cell_type": "code",
   "execution_count": 16,
   "id": "24804012",
   "metadata": {},
   "outputs": [
    {
     "data": {
      "text/plain": [
       "0.75"
      ]
     },
     "execution_count": 16,
     "metadata": {},
     "output_type": "execute_result"
    }
   ],
   "source": [
    "import pandas as pd                                           \n",
    "from sklearn.tree import DecisionTreeClassifier               \n",
    "from sklearn.model_selection import train_test_split          \n",
    "from sklearn.metrics import accuracy_score                    \n",
    "from sklearn import tree                                                                \n",
    "\n",
    "music_data = pd.read_csv('music.csv')       \n",
    "X = music_data.drop(columns = 'genre')                             \n",
    "Y = music_data['genre']                                               \n",
    "\n",
    "X_train, X_test, Y_train, Y_test = train_test_split(X, Y, test_size=0.2)    \n",
    "\n",
    "model = DecisionTreeClassifier()                     \n",
    "model.fit(X_train,Y_train)                          \n",
    "predictions = model.predict(X_test)                 \n",
    "\n",
    "score = accuracy_score(Y_test,predictions)            \n",
    "\n",
    "tree.export_graphviz(model,out_file='music-recommender.dot',            \n",
    "                     feature_names=['age','gender'],\n",
    "                     class_names=sorted(Y.unique()),\n",
    "                     label='all',rounded=True,filled=True)\n",
    "\n",
    "\n",
    "score                                           "
   ]
  },
  {
   "cell_type": "code",
   "execution_count": null,
   "id": "0970a47e",
   "metadata": {},
   "outputs": [],
   "source": []
  }
 ],
 "metadata": {
  "kernelspec": {
   "display_name": "Python 3",
   "language": "python",
   "name": "python3"
  },
  "language_info": {
   "codemirror_mode": {
    "name": "ipython",
    "version": 3
   },
   "file_extension": ".py",
   "mimetype": "text/x-python",
   "name": "python",
   "nbconvert_exporter": "python",
   "pygments_lexer": "ipython3",
   "version": "3.8.8"
  }
 },
 "nbformat": 4,
 "nbformat_minor": 5
}
